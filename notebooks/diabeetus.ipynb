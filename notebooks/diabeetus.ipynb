{
 "cells": [
  {
   "cell_type": "markdown",
   "id": "c3e2e26f-ebd9-46f9-9842-b02f69c60798",
   "metadata": {},
   "source": [
    "## Load data"
   ]
  },
  {
   "cell_type": "code",
   "execution_count": 4,
   "id": "9613f9d1-c54d-4eee-a5c6-049c33f5f6e0",
   "metadata": {},
   "outputs": [
    {
     "data": {
      "text/html": [
       "<div>\n",
       "<style scoped>\n",
       "    .dataframe tbody tr th:only-of-type {\n",
       "        vertical-align: middle;\n",
       "    }\n",
       "\n",
       "    .dataframe tbody tr th {\n",
       "        vertical-align: top;\n",
       "    }\n",
       "\n",
       "    .dataframe thead th {\n",
       "        text-align: right;\n",
       "    }\n",
       "</style>\n",
       "<table border=\"1\" class=\"dataframe\">\n",
       "  <thead>\n",
       "    <tr style=\"text-align: right;\">\n",
       "      <th></th>\n",
       "      <th>preg</th>\n",
       "      <th>plas</th>\n",
       "      <th>pres</th>\n",
       "      <th>skin</th>\n",
       "      <th>insu</th>\n",
       "      <th>mass</th>\n",
       "      <th>pedi</th>\n",
       "      <th>age</th>\n",
       "      <th>target</th>\n",
       "    </tr>\n",
       "  </thead>\n",
       "  <tbody>\n",
       "    <tr>\n",
       "      <th>0</th>\n",
       "      <td>6</td>\n",
       "      <td>148</td>\n",
       "      <td>72</td>\n",
       "      <td>35</td>\n",
       "      <td>0</td>\n",
       "      <td>33.6</td>\n",
       "      <td>0.627</td>\n",
       "      <td>50</td>\n",
       "      <td>1</td>\n",
       "    </tr>\n",
       "    <tr>\n",
       "      <th>1</th>\n",
       "      <td>1</td>\n",
       "      <td>85</td>\n",
       "      <td>66</td>\n",
       "      <td>29</td>\n",
       "      <td>0</td>\n",
       "      <td>26.6</td>\n",
       "      <td>0.351</td>\n",
       "      <td>31</td>\n",
       "      <td>0</td>\n",
       "    </tr>\n",
       "    <tr>\n",
       "      <th>2</th>\n",
       "      <td>8</td>\n",
       "      <td>183</td>\n",
       "      <td>64</td>\n",
       "      <td>0</td>\n",
       "      <td>0</td>\n",
       "      <td>23.3</td>\n",
       "      <td>0.672</td>\n",
       "      <td>32</td>\n",
       "      <td>1</td>\n",
       "    </tr>\n",
       "    <tr>\n",
       "      <th>3</th>\n",
       "      <td>1</td>\n",
       "      <td>89</td>\n",
       "      <td>66</td>\n",
       "      <td>23</td>\n",
       "      <td>94</td>\n",
       "      <td>28.1</td>\n",
       "      <td>0.167</td>\n",
       "      <td>21</td>\n",
       "      <td>0</td>\n",
       "    </tr>\n",
       "    <tr>\n",
       "      <th>4</th>\n",
       "      <td>0</td>\n",
       "      <td>137</td>\n",
       "      <td>40</td>\n",
       "      <td>35</td>\n",
       "      <td>168</td>\n",
       "      <td>43.1</td>\n",
       "      <td>2.288</td>\n",
       "      <td>33</td>\n",
       "      <td>1</td>\n",
       "    </tr>\n",
       "  </tbody>\n",
       "</table>\n",
       "</div>"
      ],
      "text/plain": [
       "   preg  plas  pres  skin  insu  mass   pedi  age  target\n",
       "0     6   148    72    35     0  33.6  0.627   50       1\n",
       "1     1    85    66    29     0  26.6  0.351   31       0\n",
       "2     8   183    64     0     0  23.3  0.672   32       1\n",
       "3     1    89    66    23    94  28.1  0.167   21       0\n",
       "4     0   137    40    35   168  43.1  2.288   33       1"
      ]
     },
     "execution_count": 4,
     "metadata": {},
     "output_type": "execute_result"
    }
   ],
   "source": [
    "\n",
    "\n",
    "import numpy as np, pandas as pd\n",
    "from sklearn.datasets import fetch_openml\n",
    "\n",
    "Xy = fetch_openml(name=\"diabetes\", version=1,as_frame=True) # Pima (binary)\n",
    "df = pd.concat([Xy.data, Xy.target.rename(\"target\")], axis=1)\n",
    "\n",
    "# df[\"target\"] = df[\"target\"].astype(int) # ensure 0/1\n",
    "# df.head()\n",
    "\n",
    "# print(df[\"target\"].unique())\n",
    "\n",
    "df[\"target\"] = df[\"target\"].map({\n",
    "    \"tested_negative\": 0,\n",
    "    \"tested_positive\": 1\n",
    "}).astype(int)\n",
    "\n",
    "df.head()"
   ]
  },
  {
   "cell_type": "markdown",
   "id": "66332043-796a-4141-ab5b-403bfb22d548",
   "metadata": {},
   "source": [
    "## Quick EDA"
   ]
  },
  {
   "cell_type": "code",
   "execution_count": 7,
   "id": "079d8844-6548-4198-a604-390084e5141a",
   "metadata": {},
   "outputs": [
    {
     "name": "stdout",
     "output_type": "stream",
     "text": [
      "<class 'pandas.core.frame.DataFrame'>\n",
      "RangeIndex: 768 entries, 0 to 767\n",
      "Data columns (total 9 columns):\n",
      " #   Column  Non-Null Count  Dtype  \n",
      "---  ------  --------------  -----  \n",
      " 0   preg    768 non-null    int64  \n",
      " 1   plas    768 non-null    int64  \n",
      " 2   pres    768 non-null    int64  \n",
      " 3   skin    768 non-null    int64  \n",
      " 4   insu    768 non-null    int64  \n",
      " 5   mass    768 non-null    float64\n",
      " 6   pedi    768 non-null    float64\n",
      " 7   age     768 non-null    int64  \n",
      " 8   target  768 non-null    int64  \n",
      "dtypes: float64(2), int64(7)\n",
      "memory usage: 54.1 KB\n"
     ]
    },
    {
     "data": {
      "image/png": "[encoded data removed]",
      "text/plain": [
       "<Figure size 640x480 with 2 Axes>"
      ]
     },
     "metadata": {},
     "output_type": "display_data"
    }
   ],
   "source": [
    "df.info()\n",
    "df.describe().T\n",
    "df[\"target\"].value_counts(normalize=True)\n",
    "import seaborn as sns, matplotlib.pyplot as plt\n",
    "sns.heatmap(df.corr(numeric_only=True), cmap=\"coolwarm\", center=0)\n",
    "plt.show()"
   ]
  },
  {
   "cell_type": "markdown",
   "id": "6b6eb15b-4b7c-46b5-8fc3-21fb8546c3a3",
   "metadata": {},
   "source": [
    "# Split and baseline"
   ]
  },
  {
   "cell_type": "markdown",
   "id": "a91e087e-d117-4080-b27c-b3f0cee6ab0d",
   "metadata": {},
   "source": [
    "## Train/val/test split, boss"
   ]
  },
  {
   "cell_type": "code",
   "execution_count": 10,
   "id": "11f8c233-15b0-469b-b39d-12d73ffaf325",
   "metadata": {},
   "outputs": [],
   "source": [
    "from sklearn.model_selection import train_test_split\n",
    "\n",
    "X = df.drop(columns=[\"target\"])\n",
    "y = df[\"target\"]\n",
    "X_train, X_temp, y_train, y_temp = train_test_split(\n",
    "    X, y, test_size=0.3, stratify=y, random_state=42\n",
    ")\n",
    "X_valid, X_test, y_valid, y_test = train_test_split(\n",
    "    X_temp, y_temp, test_size=0.5, stratify=y_temp, random_state=42\n",
    ")"
   ]
  },
  {
   "cell_type": "markdown",
   "id": "ec30b43e-9109-4562-9fee-2edc62094154",
   "metadata": {},
   "source": [
    "## Baselines:"
   ]
  },
  {
   "cell_type": "code",
   "execution_count": 12,
   "id": "ed15e49b-4697-4c74-97e4-db9e55d3ad54",
   "metadata": {},
   "outputs": [
    {
     "name": "stdout",
     "output_type": "stream",
     "text": [
      "Dummy (most frequent) | ROC-AUC=0.500 | PR-AUC=0.348\n"
     ]
    }
   ],
   "source": [
    "from sklearn.dummy import DummyClassifier\n",
    "from sklearn.metrics import roc_auc_score, average_precision_score\n",
    "\n",
    "def eval_probs(clf, Xv, yv, label):\n",
    "    p = clf.predict_proba(Xv)[:,1]\n",
    "    print(f\"{label} | ROC-AUC={roc_auc_score(yv, p):.3f} | PR-AUC={average_precision_score(yv, p):.3f}\")\n",
    "\n",
    "dummy = DummyClassifier(strategy=\"most_frequent\").fit(X_train, y_train)\n",
    "eval_probs(dummy, X_valid, y_valid, \"Dummy (most frequent)\")"
   ]
  },
  {
   "cell_type": "markdown",
   "id": "d5d8d224-9ccd-4996-a621-e493fc159c50",
   "metadata": {},
   "source": [
    "# Models and Pipelines"
   ]
  },
  {
   "cell_type": "markdown",
   "id": "e3e43087-637c-463a-b9a6-2fbb96a8f03c",
   "metadata": {},
   "source": [
    "## Pipelines"
   ]
  },
  {
   "cell_type": "code",
   "execution_count": 16,
   "id": "d77500ef-48a3-4de1-aa07-c7205e7f658f",
   "metadata": {},
   "outputs": [
    {
     "name": "stdout",
     "output_type": "stream",
     "text": [
      "Logistic | ROC-AUC=0.830 | PR-AUC=0.709\n",
      "RandomForest | ROC-AUC=0.833 | PR-AUC=0.696\n"
     ]
    }
   ],
   "source": [
    "from sklearn.compose import ColumnTransformer\n",
    "from sklearn.preprocessing import StandardScaler\n",
    "from sklearn.impute import SimpleImputer\n",
    "from sklearn.linear_model import LogisticRegression\n",
    "from sklearn.ensemble import RandomForestClassifier\n",
    "from sklearn.pipeline import Pipeline\n",
    "\n",
    "num_cols = X.columns.tolist()\n",
    "\n",
    "num_pipe = Pipeline([\n",
    "    (\"impute\", SimpleImputer(strategy=\"median\")),\n",
    "    (\"scale\", StandardScaler())\n",
    "])\n",
    "\n",
    "preproc_linear = ColumnTransformer([\n",
    "    (\"num\", num_pipe, num_cols)\n",
    "])\n",
    "\n",
    "preproc_tree = ColumnTransformer([\n",
    "    (\"num\", SimpleImputer(strategy=\"median\"), num_cols)\n",
    "])\n",
    "\n",
    "logit = Pipeline([\n",
    "    (\"prep\", preproc_linear),\n",
    "    (\"clf\", LogisticRegression(max_iter=200, class_weight=\"balanced\", C=1.0))\n",
    "])\n",
    "\n",
    "rf=Pipeline([\n",
    "    (\"prep\", preproc_tree),\n",
    "    (\"clf\", RandomForestClassifier(\n",
    "        n_estimators=300, max_depth=None, min_samples_leaf=2, random_state=42, class_weight=\"balanced_subsample\"\n",
    "    ))\n",
    "])\n",
    "\n",
    "for name, model in [(\"Logistic\", logit), (\"RandomForest\", rf)]:\n",
    "    model.fit(X_train, y_train)\n",
    "    eval_probs(model, X_valid, y_valid, name)"
   ]
  },
  {
   "cell_type": "markdown",
   "id": "bf27487c-ebf8-4080-9768-a14d71dd07b4",
   "metadata": {},
   "source": [
    "## Light hyperparameter search debbe"
   ]
  },
  {
   "cell_type": "code",
   "execution_count": 18,
   "id": "4969e9a9-e4b7-4b28-af55-e669f0bcdaa2",
   "metadata": {},
   "outputs": [
    {
     "name": "stdout",
     "output_type": "stream",
     "text": [
      "RF (best) | ROC-AUC=0.837 | PR-AUC=0.698\n"
     ]
    }
   ],
   "source": [
    "from sklearn.model_selection import GridSearchCV\n",
    "\n",
    "rf_grid = {\n",
    "    \"clf__n_estimators\": [200,400],\n",
    "    \"clf__max_depth\": [None, 6, 10],\n",
    "    \"clf__min_samples_leaf\": [1,2,4]\n",
    "}\n",
    "rf_cv = GridSearchCV(rf, rf_grid, scoring=\"average_precision\", cv=5, n_jobs=-1)\n",
    "rf_cv.fit(X_train, y_train)\n",
    "best_rf = rf_cv.best_estimator_\n",
    "eval_probs(best_rf, X_valid, y_valid, \"RF (best)\")\n"
   ]
  },
  {
   "cell_type": "markdown",
   "id": "fab92eb8-4eea-4d99-9cb8-a685dc8a3478",
   "metadata": {},
   "source": [
    "# Evaluation and decision threshold"
   ]
  },
  {
   "cell_type": "markdown",
   "id": "87da6d09-3667-4899-b92f-21715dea2dbd",
   "metadata": {},
   "source": [
    "## Pick threshold 𝜏 to hit precision ≥ 0.80 and maximise recall"
   ]
  },
  {
   "cell_type": "code",
   "execution_count": 21,
   "id": "347f050c-4f48-4d39-8e7a-879df8b0c579",
   "metadata": {},
   "outputs": [
    {
     "name": "stdout",
     "output_type": "stream",
     "text": [
      "Selected model | chosen τ=0.763 | precision=0.818 | recall=0.225\n",
      "[[73  2]\n",
      " [31  9]]\n",
      "              precision    recall  f1-score   support\n",
      "\n",
      "           0      0.702     0.973     0.816        75\n",
      "           1      0.818     0.225     0.353        40\n",
      "\n",
      "    accuracy                          0.713       115\n",
      "   macro avg      0.760     0.599     0.584       115\n",
      "weighted avg      0.742     0.713     0.655       115\n",
      "\n"
     ]
    }
   ],
   "source": [
    "import numpy as np\n",
    "from sklearn.metrics import precision_recall_curve\n",
    "\n",
    "def pick_threshold_for_precision(y_true, prob, min_precision=0.80):\n",
    "    prec, rec, thr = precision_recall_curve(y_true, prob)\n",
    "\n",
    "    candidates = [(p,r,t) for p, r,t in zip(prec[:-1], rec[:-1], thr) if p >= min_precision]\n",
    "    if not candidates:\n",
    "        # fallback: highest F1\n",
    "        f1 = 2 * (prec[:-1]*rec[:-1]) / (prec[:-1]+rec[:-1] + 1e-12)\n",
    "        i = np.argmax(f1)\n",
    "        return prec[i], rec[i], thr[i]\n",
    "    # choonse max recall among candidates\n",
    "    p,r,t = max(candidates, key=lambda x:x[1])\n",
    "    return p,r,t\n",
    "\n",
    "def evaluate_with_threshold(model, Xv, yv, label, min_precision=0.80):\n",
    "    prob = model.predict_proba(Xv)[:,1]\n",
    "    p, r, t = pick_threshold_for_precision(yv, prob, min_precision)\n",
    "    from sklearn.metrics import classification_report, confusion_matrix\n",
    "    yhat = (prob >= t).astype(int)\n",
    "    print(f\"{label} | chosen τ={t:.3f} | precision={p:.3f} | recall={r:.3f}\")\n",
    "    print(confusion_matrix(yv, yhat))\n",
    "    print(classification_report(yv, yhat, digits=3))\n",
    "    return t\n",
    "\n",
    "tau = evaluate_with_threshold(best_rf if 'best_rf' in globals() else rf, X_valid, y_valid, \"Selected model\", min_precision=0.80)\n"
   ]
  },
  {
   "cell_type": "markdown",
   "id": "a14dd431-d74a-4b18-a0c1-d939c87c652f",
   "metadata": {},
   "source": [
    "## Lock the threshold, test one time:"
   ]
  },
  {
   "cell_type": "code",
   "execution_count": 24,
   "id": "54b3f616-cd83-4865-b3d0-d54830a768e3",
   "metadata": {},
   "outputs": [
    {
     "name": "stdout",
     "output_type": "stream",
     "text": [
      "Test metrics:\n",
      "Precision: 1.0\n",
      "Recall: 0.2682926829268293\n",
      "F1: 0.4230769230769231\n",
      "ROC-AUC: 0.8621138211382113\n",
      "PR-AUC: 0.7916457770562394\n",
      "Confusion matrix:\n",
      " [[75  0]\n",
      " [30 11]]\n"
     ]
    }
   ],
   "source": [
    "final_model = best_rf if 'best_rf' in globals() else rf\n",
    "final_model.fit(pd.concat([X_train, X_valid]), pd.concat([y_train, y_valid]))\n",
    "prob_test = final_model.predict_proba(X_test)[:,1]\n",
    "yhat_test = (prob_test >= tau).astype(int)\n",
    "\n",
    "from sklearn.metrics import precision_score, recall_score, f1_score, roc_auc_score, average_precision_score, confusion_matrix\n",
    "print(\"Test metrics:\")\n",
    "print(\"Precision:\", precision_score(y_test, yhat_test))\n",
    "print(\"Recall:\", recall_score(y_test, yhat_test))\n",
    "print(\"F1:\", f1_score(y_test, yhat_test))\n",
    "print(\"ROC-AUC:\", roc_auc_score(y_test, prob_test))\n",
    "print(\"PR-AUC:\", average_precision_score(y_test, prob_test))\n",
    "print(\"Confusion matrix:\\n\", confusion_matrix(y_test, yhat_test))\n"
   ]
  },
  {
   "cell_type": "markdown",
   "id": "0881cdf7-9b87-4943-93d8-b5ab94137ba0",
   "metadata": {},
   "source": [
    "# Interpretability and stakeholder summary!\n",
    "## Premutation importance (model-agnostic):"
   ]
  },
  {
   "cell_type": "code",
   "execution_count": 27,
   "id": "314ff396-cf89-4428-847b-4ac2607565e1",
   "metadata": {},
   "outputs": [
    {
     "data": {
      "text/html": [
       "<div>\n",
       "<style scoped>\n",
       "    .dataframe tbody tr th:only-of-type {\n",
       "        vertical-align: middle;\n",
       "    }\n",
       "\n",
       "    .dataframe tbody tr th {\n",
       "        vertical-align: top;\n",
       "    }\n",
       "\n",
       "    .dataframe thead th {\n",
       "        text-align: right;\n",
       "    }\n",
       "</style>\n",
       "<table border=\"1\" class=\"dataframe\">\n",
       "  <thead>\n",
       "    <tr style=\"text-align: right;\">\n",
       "      <th></th>\n",
       "      <th>feature</th>\n",
       "      <th>importance</th>\n",
       "    </tr>\n",
       "  </thead>\n",
       "  <tbody>\n",
       "    <tr>\n",
       "      <th>1</th>\n",
       "      <td>plas</td>\n",
       "      <td>0.211138</td>\n",
       "    </tr>\n",
       "    <tr>\n",
       "      <th>5</th>\n",
       "      <td>mass</td>\n",
       "      <td>0.093862</td>\n",
       "    </tr>\n",
       "    <tr>\n",
       "      <th>6</th>\n",
       "      <td>pedi</td>\n",
       "      <td>0.027589</td>\n",
       "    </tr>\n",
       "    <tr>\n",
       "      <th>7</th>\n",
       "      <td>age</td>\n",
       "      <td>0.019679</td>\n",
       "    </tr>\n",
       "    <tr>\n",
       "      <th>4</th>\n",
       "      <td>insu</td>\n",
       "      <td>0.009382</td>\n",
       "    </tr>\n",
       "    <tr>\n",
       "      <th>3</th>\n",
       "      <td>skin</td>\n",
       "      <td>0.004343</td>\n",
       "    </tr>\n",
       "    <tr>\n",
       "      <th>2</th>\n",
       "      <td>pres</td>\n",
       "      <td>0.002663</td>\n",
       "    </tr>\n",
       "    <tr>\n",
       "      <th>0</th>\n",
       "      <td>preg</td>\n",
       "      <td>-0.004079</td>\n",
       "    </tr>\n",
       "  </tbody>\n",
       "</table>\n",
       "</div>"
      ],
      "text/plain": [
       "  feature  importance\n",
       "1    plas    0.211138\n",
       "5    mass    0.093862\n",
       "6    pedi    0.027589\n",
       "7     age    0.019679\n",
       "4    insu    0.009382\n",
       "3    skin    0.004343\n",
       "2    pres    0.002663\n",
       "0    preg   -0.004079"
      ]
     },
     "execution_count": 27,
     "metadata": {},
     "output_type": "execute_result"
    }
   ],
   "source": [
    "from sklearn.inspection import permutation_importance\n",
    "\n",
    "r = permutation_importance(final_model, X_test, y_test, n_repeats=20, random_state=42, scoring=\"average_precision\")\n",
    "imp = pd.DataFrame({\"feature\": X.columns, \"importance\": r.importances_mean}).sort_values(\"importance\", ascending=False)\n",
    "imp.head(9)"
   ]
  },
  {
   "cell_type": "code",
   "execution_count": 29,
   "id": "752b23fc-c2ac-40f2-99a9-c52f7cb4f04c",
   "metadata": {},
   "outputs": [
    {
     "data": {
      "image/png": "[encoded data removed]",
      "text/plain": [
       "<Figure size 800x500 with 1 Axes>"
      ]
     },
     "metadata": {},
     "output_type": "display_data"
    }
   ],
   "source": [
    "import matplotlib.pyplot as plt\n",
    "\n",
    "# Your permutation importance calculation\n",
    "from sklearn.inspection import permutation_importance\n",
    "\n",
    "r = permutation_importance(\n",
    "    final_model, \n",
    "    X_test, \n",
    "    y_test, \n",
    "    n_repeats=20, \n",
    "    random_state=42, \n",
    "    scoring=\"average_precision\"\n",
    ")\n",
    "\n",
    "# Create & sort DataFrame\n",
    "imp = (\n",
    "    pd.DataFrame({\n",
    "        \"feature\": X.columns,\n",
    "        \"importance\": r.importances_mean\n",
    "    })\n",
    "    .sort_values(\"importance\", ascending=False)\n",
    ")\n",
    "\n",
    "# Take top 9 (or however many you want)\n",
    "imp_top = imp.head(9)\n",
    "\n",
    "# Plot directly from DataFrame\n",
    "plt.figure(figsize=(8,5))\n",
    "bars = plt.bar(\n",
    "    imp_top[\"feature\"], \n",
    "    imp_top[\"importance\"], \n",
    "    color=[\"#4CAF50\" if val > 0 else \"#F44336\" for val in imp_top[\"importance\"]]\n",
    ")\n",
    "plt.axhline(0, color='black', linewidth=0.8)\n",
    "plt.title(\"Permutation Feature Importance (Average Precision)\", fontsize=14, weight='bold')\n",
    "plt.ylabel(\"Importance Score\")\n",
    "plt.xlabel(\"Feature\")\n",
    "plt.xticks(rotation=45)\n",
    "\n",
    "# Add value labels\n",
    "for bar, val in zip(bars, imp_top[\"importance\"]):\n",
    "    plt.text(\n",
    "        bar.get_x() + bar.get_width()/2, \n",
    "        val + (0.002 if val >= 0 else -0.006),\n",
    "        f\"{val:.3f}\", \n",
    "        ha='center', \n",
    "        va='bottom' if val >= 0 else 'top', \n",
    "        fontsize=9\n",
    "    )\n",
    "\n",
    "plt.tight_layout()\n",
    "plt.show()\n"
   ]
  },
  {
   "cell_type": "code",
   "execution_count": null,
   "id": "deb17a34-38bb-47e3-bfd3-f09da089ee02",
   "metadata": {},
   "outputs": [],
   "source": []
  }
 ],
 "metadata": {
  "kernelspec": {
   "display_name": "PICOLORES (diabeetus)",
   "language": "python",
   "name": ".venv"
  },
  "language_info": {
   "codemirror_mode": {
    "name": "ipython",
    "version": 3
   },
   "file_extension": ".py",
   "mimetype": "text/x-python",
   "name": "python",
   "nbconvert_exporter": "python",
   "pygments_lexer": "ipython3",
   "version": "3.12.7"
  }
 },
 "nbformat": 4,
 "nbformat_minor": 5
}
